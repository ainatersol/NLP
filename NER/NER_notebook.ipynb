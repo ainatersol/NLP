{
 "cells": [
  {
   "cell_type": "markdown",
   "metadata": {},
   "source": [
    "# Implement Name-Entinty Recognition (NER) - Relationship Extraction (RE) techniques\n",
    "\n",
    "- PURE framework, separate (https://github.com/princeton-nlp/PURE)\n",
    "- DYGIE++ framework\n",
    "\n",
    "BioBERT \n",
    "RadBERT (https://www.ncbi.nlm.nih.gov/pmc/articles/PMC9629758/)\n",
    "PubMedBERT"
   ]
  },
  {
   "cell_type": "markdown",
   "metadata": {},
   "source": []
  }
 ],
 "metadata": {
  "language_info": {
   "name": "python"
  },
  "orig_nbformat": 4
 },
 "nbformat": 4,
 "nbformat_minor": 2
}
